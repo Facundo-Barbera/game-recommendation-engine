{
 "cells": [
  {
   "cell_type": "code",
   "execution_count": 346,
   "id": "initial_id",
   "metadata": {
    "ExecuteTime": {
     "end_time": "2023-07-31T06:01:04.254295Z",
     "start_time": "2023-07-31T06:01:04.070886Z"
    },
    "collapsed": true,
    "jupyter": {
     "outputs_hidden": true
    }
   },
   "outputs": [],
   "source": [
    "# WARNING: This cell *must* be loaded for the rest of the notebook to work\n",
    "# Library imports\n",
    "import pandas as pd\n",
    "import matplotlib.pyplot as plt\n",
    "import numpy as np\n",
    "\n",
    "# Data source (Excel file)\n",
    "data_source = \"../data/raw/videojuegos.xlsx\""
   ]
  },
  {
   "cell_type": "markdown",
   "id": "b9eeac604cd73cb8",
   "metadata": {
    "collapsed": false,
    "jupyter": {
     "outputs_hidden": false
    }
   },
   "source": [
    "# Game Recommendation Engine: Analyzing a Video game Database\n",
    "\n",
    "_Fancy name, huh?_\n",
    "_Don't let it fool you, it's just a simple school project._\n"
   ]
  },
  {
   "cell_type": "markdown",
   "id": "c8bdb9d0bb2db9d",
   "metadata": {
    "collapsed": false,
    "jupyter": {
     "outputs_hidden": false
    }
   },
   "source": [
    "## Introduction\n",
    "\n",
    "This is a project for an analytics-driven course called \"Análisis de Biología Computacional.\"\n",
    "My teacher, Drao. Ella Raquel Acuña Gonzáles gave us a file called `videojuegos.xlsx`.\n",
    "This file contains a database of video games, with the following columns:\n",
    "\n",
    "| Column name   | Description                                                 |\n",
    "|---------------|-------------------------------------------------------------|\n",
    "| Game          | Name of the game                                            |\n",
    "| First Release | The date of its first release                               |\n",
    "| Platform      | The platform that my teacher has to play the game           |\n",
    "| Re-release    | The date of the last update of the game                     |\n",
    "| Developer     | The company that developed the game                         |\n",
    "| Publisher     | The company that published the game                         |\n",
    "| Genre         | The genre of the game                                       |\n",
    "| Subgenre      | The subgenre of the game                                    |\n",
    "| Main story    | The time it takes to complete the main story                |\n",
    "| Main + extras | The time it takes to complete the main story and the extras |\n",
    "| Completionist | The time it takes to complete the game 100%                 |\n",
    "| Hours Played  | The time my teacher has played the game                     |\n",
    "| % Completion  | The percentage of the game my teacher has completed         |\n",
    "| Metascore     | The score that critics gave to the game                     |\n",
    "| User Score    | The score that users gave to the game                       |\n",
    "\n",
    "Using this information and the file, the following analysis was created."
   ]
  },
  {
   "cell_type": "markdown",
   "id": "cdfb64c00107bf29",
   "metadata": {
    "collapsed": false,
    "jupyter": {
     "outputs_hidden": false
    }
   },
   "source": [
    "## Understanding the data\n",
    "\n",
    "This first step is crucial to understand the data and the information it contains.\n",
    "First, I will load the data into a pandas dataframe.\n",
    "We can then use the `head()` function to see the first 5 rows of the dataframe."
   ]
  },
  {
   "cell_type": "code",
   "execution_count": 347,
   "id": "7b7008ed0f3aabfd",
   "metadata": {
    "ExecuteTime": {
     "end_time": "2023-07-31T06:01:04.493924Z",
     "start_time": "2023-07-31T06:01:04.098101Z"
    },
    "collapsed": false,
    "jupyter": {
     "outputs_hidden": false
    }
   },
   "outputs": [
    {
     "data": {
      "text/html": [
       "<div>\n",
       "<style scoped>\n",
       "    .dataframe tbody tr th:only-of-type {\n",
       "        vertical-align: middle;\n",
       "    }\n",
       "\n",
       "    .dataframe tbody tr th {\n",
       "        vertical-align: top;\n",
       "    }\n",
       "\n",
       "    .dataframe thead th {\n",
       "        text-align: right;\n",
       "    }\n",
       "</style>\n",
       "<table border=\"1\" class=\"dataframe\">\n",
       "  <thead>\n",
       "    <tr style=\"text-align: right;\">\n",
       "      <th></th>\n",
       "      <th>Game</th>\n",
       "      <th>Original</th>\n",
       "      <th>First Release</th>\n",
       "      <th>Platform</th>\n",
       "      <th>Re-release</th>\n",
       "      <th>Developer</th>\n",
       "      <th>Publisher</th>\n",
       "      <th>Genre</th>\n",
       "      <th>Subgenre</th>\n",
       "      <th>Main Story</th>\n",
       "      <th>Main + Extra</th>\n",
       "      <th>Completionist</th>\n",
       "      <th>Hours Played</th>\n",
       "      <th>% Completion</th>\n",
       "      <th>Metascore</th>\n",
       "      <th>User Score</th>\n",
       "    </tr>\n",
       "  </thead>\n",
       "  <tbody>\n",
       "    <tr>\n",
       "      <th>0</th>\n",
       "      <td>Dragon's Lair</td>\n",
       "      <td>Arcade</td>\n",
       "      <td>1983-06-19 00:00:00</td>\n",
       "      <td>STEAM</td>\n",
       "      <td>1983-06-19 00:00:00</td>\n",
       "      <td>Advanced Microcomputer Systems</td>\n",
       "      <td>Cinematronics, Taito</td>\n",
       "      <td>Adventure</td>\n",
       "      <td>Interactive Movie</td>\n",
       "      <td>1.0</td>\n",
       "      <td>2.0</td>\n",
       "      <td>3.0</td>\n",
       "      <td>5.9</td>\n",
       "      <td>100</td>\n",
       "      <td>41.0</td>\n",
       "      <td>60.0</td>\n",
       "    </tr>\n",
       "    <tr>\n",
       "      <th>1</th>\n",
       "      <td>Dragon Warrior I</td>\n",
       "      <td>NES</td>\n",
       "      <td>1986-05-27 00:00:00</td>\n",
       "      <td>Emulator</td>\n",
       "      <td>2000-09-27 00:00:00</td>\n",
       "      <td>Chunsoft</td>\n",
       "      <td>Nintendo</td>\n",
       "      <td>Role-Playing Game</td>\n",
       "      <td>JRPG</td>\n",
       "      <td>9.0</td>\n",
       "      <td>10.0</td>\n",
       "      <td>11.0</td>\n",
       "      <td>12.0</td>\n",
       "      <td>100</td>\n",
       "      <td>80.0</td>\n",
       "      <td>60.0</td>\n",
       "    </tr>\n",
       "    <tr>\n",
       "      <th>2</th>\n",
       "      <td>Dr. Mario: Miracle Cure</td>\n",
       "      <td>NES</td>\n",
       "      <td>1990-07-27 00:00:00</td>\n",
       "      <td>3DS</td>\n",
       "      <td>2015-05-31 00:00:00</td>\n",
       "      <td>Arika</td>\n",
       "      <td>Nintendo</td>\n",
       "      <td>Puzzle</td>\n",
       "      <td>Logic Game</td>\n",
       "      <td>3.0</td>\n",
       "      <td>3.0</td>\n",
       "      <td>5.5</td>\n",
       "      <td>19.9</td>\n",
       "      <td>100</td>\n",
       "      <td>69.0</td>\n",
       "      <td>69.0</td>\n",
       "    </tr>\n",
       "    <tr>\n",
       "      <th>3</th>\n",
       "      <td>The Legend of Zelda: Link's Awakening DX</td>\n",
       "      <td>GB</td>\n",
       "      <td>1993-06-06 00:00:00</td>\n",
       "      <td>3DS</td>\n",
       "      <td>1999-12-15 00:00:00</td>\n",
       "      <td>Nintendo</td>\n",
       "      <td>Nintendo</td>\n",
       "      <td>Action-Adventure</td>\n",
       "      <td>Action-Adventure</td>\n",
       "      <td>14.5</td>\n",
       "      <td>16.0</td>\n",
       "      <td>16.0</td>\n",
       "      <td>16.2</td>\n",
       "      <td>100</td>\n",
       "      <td>100.0</td>\n",
       "      <td>88.0</td>\n",
       "    </tr>\n",
       "    <tr>\n",
       "      <th>4</th>\n",
       "      <td>Day of the Tentacle Remastered</td>\n",
       "      <td>DOS</td>\n",
       "      <td>1993-06-25 00:00:00</td>\n",
       "      <td>STEAM</td>\n",
       "      <td>2016-03-22 00:00:00</td>\n",
       "      <td>Double Fine Productions</td>\n",
       "      <td>LucasArts</td>\n",
       "      <td>Adventure</td>\n",
       "      <td>Point-and-Click</td>\n",
       "      <td>5.0</td>\n",
       "      <td>5.5</td>\n",
       "      <td>6.0</td>\n",
       "      <td>4.3</td>\n",
       "      <td>100</td>\n",
       "      <td>86.0</td>\n",
       "      <td>79.0</td>\n",
       "    </tr>\n",
       "  </tbody>\n",
       "</table>\n",
       "</div>"
      ],
      "text/plain": [
       "                                       Game Original        First Release  \\\n",
       "0                             Dragon's Lair   Arcade  1983-06-19 00:00:00   \n",
       "1                          Dragon Warrior I      NES  1986-05-27 00:00:00   \n",
       "2                   Dr. Mario: Miracle Cure      NES  1990-07-27 00:00:00   \n",
       "3  The Legend of Zelda: Link's Awakening DX       GB  1993-06-06 00:00:00   \n",
       "4            Day of the Tentacle Remastered      DOS  1993-06-25 00:00:00   \n",
       "\n",
       "   Platform           Re-release                       Developer  \\\n",
       "0     STEAM  1983-06-19 00:00:00  Advanced Microcomputer Systems   \n",
       "1  Emulator  2000-09-27 00:00:00                        Chunsoft   \n",
       "2       3DS  2015-05-31 00:00:00                           Arika   \n",
       "3       3DS  1999-12-15 00:00:00                        Nintendo   \n",
       "4     STEAM  2016-03-22 00:00:00         Double Fine Productions   \n",
       "\n",
       "              Publisher              Genre           Subgenre  Main Story  \\\n",
       "0  Cinematronics, Taito          Adventure  Interactive Movie         1.0   \n",
       "1              Nintendo  Role-Playing Game               JRPG         9.0   \n",
       "2              Nintendo             Puzzle         Logic Game         3.0   \n",
       "3              Nintendo   Action-Adventure   Action-Adventure        14.5   \n",
       "4             LucasArts          Adventure    Point-and-Click         5.0   \n",
       "\n",
       "   Main + Extra  Completionist  Hours Played  % Completion  Metascore  \\\n",
       "0           2.0            3.0           5.9           100       41.0   \n",
       "1          10.0           11.0          12.0           100       80.0   \n",
       "2           3.0            5.5          19.9           100       69.0   \n",
       "3          16.0           16.0          16.2           100      100.0   \n",
       "4           5.5            6.0           4.3           100       86.0   \n",
       "\n",
       "   User Score  \n",
       "0        60.0  \n",
       "1        60.0  \n",
       "2        69.0  \n",
       "3        88.0  \n",
       "4        79.0  "
      ]
     },
     "execution_count": 347,
     "metadata": {},
     "output_type": "execute_result"
    }
   ],
   "source": [
    "df = pd.read_excel(data_source)\n",
    "df.head()"
   ]
  },
  {
   "cell_type": "markdown",
   "id": "beb64be55254ce45",
   "metadata": {
    "collapsed": false,
    "jupyter": {
     "outputs_hidden": false
    }
   },
   "source": [
    "We can also use the `info()` function to see the data types of each column and the number of entries."
   ]
  },
  {
   "cell_type": "code",
   "execution_count": 348,
   "id": "358bb11ed1222c01",
   "metadata": {
    "ExecuteTime": {
     "end_time": "2023-07-31T06:01:04.496512Z",
     "start_time": "2023-07-31T06:01:04.169128Z"
    },
    "collapsed": false,
    "jupyter": {
     "outputs_hidden": false
    }
   },
   "outputs": [
    {
     "name": "stdout",
     "output_type": "stream",
     "text": [
      "<class 'pandas.core.frame.DataFrame'>\n",
      "RangeIndex: 743 entries, 0 to 742\n",
      "Data columns (total 16 columns):\n",
      " #   Column         Non-Null Count  Dtype  \n",
      "---  ------         --------------  -----  \n",
      " 0   Game           743 non-null    object \n",
      " 1   Original       743 non-null    object \n",
      " 2   First Release  743 non-null    object \n",
      " 3   Platform       743 non-null    object \n",
      " 4   Re-release     743 non-null    object \n",
      " 5   Developer      743 non-null    object \n",
      " 6   Publisher      743 non-null    object \n",
      " 7   Genre          743 non-null    object \n",
      " 8   Subgenre       743 non-null    object \n",
      " 9   Main Story     738 non-null    float64\n",
      " 10  Main + Extra   738 non-null    float64\n",
      " 11  Completionist  738 non-null    float64\n",
      " 12  Hours Played   735 non-null    float64\n",
      " 13  % Completion   743 non-null    int64  \n",
      " 14  Metascore      737 non-null    float64\n",
      " 15  User Score     737 non-null    float64\n",
      "dtypes: float64(6), int64(1), object(9)\n",
      "memory usage: 93.0+ KB\n"
     ]
    }
   ],
   "source": [
    "df.info()"
   ]
  },
  {
   "cell_type": "markdown",
   "id": "d34ea620f60af8f4",
   "metadata": {
    "collapsed": false,
    "jupyter": {
     "outputs_hidden": false
    }
   },
   "source": [
    "## Cleaning the data\n",
    "\n",
    "The first thing I will do is clean the data."
   ]
  },
  {
   "cell_type": "markdown",
   "id": "1ad7daf139712181",
   "metadata": {
    "collapsed": false,
    "jupyter": {
     "outputs_hidden": false
    }
   },
   "source": [
    "### Check for null values\n",
    "\n",
    "Checking for null values will allow me to reduce the number of rows in the dataframe."
   ]
  },
  {
   "cell_type": "code",
   "execution_count": 349,
   "id": "18e72f6a264743c",
   "metadata": {
    "ExecuteTime": {
     "end_time": "2023-07-31T06:01:04.496685Z",
     "start_time": "2023-07-31T06:01:04.172319Z"
    },
    "collapsed": false,
    "jupyter": {
     "outputs_hidden": false
    }
   },
   "outputs": [
    {
     "data": {
      "text/plain": [
       "Game             0\n",
       "Original         0\n",
       "First Release    0\n",
       "Platform         0\n",
       "Re-release       0\n",
       "Developer        0\n",
       "Publisher        0\n",
       "Genre            0\n",
       "Subgenre         0\n",
       "Main Story       5\n",
       "Main + Extra     5\n",
       "Completionist    5\n",
       "Hours Played     8\n",
       "% Completion     0\n",
       "Metascore        6\n",
       "User Score       6\n",
       "dtype: int64"
      ]
     },
     "execution_count": 349,
     "metadata": {},
     "output_type": "execute_result"
    }
   ],
   "source": [
    "df.isnull().sum()"
   ]
  },
  {
   "cell_type": "markdown",
   "id": "49f4c82007df1cb9",
   "metadata": {
    "collapsed": false,
    "jupyter": {
     "outputs_hidden": false
    }
   },
   "source": [
    "There are a few Main Story values that are missing.\n",
    "I want to see if any of these games are interesting or important for the analysis."
   ]
  },
  {
   "cell_type": "code",
   "execution_count": 350,
   "id": "8f49f7e35b307626",
   "metadata": {
    "ExecuteTime": {
     "end_time": "2023-07-31T06:01:04.498856Z",
     "start_time": "2023-07-31T06:01:04.175555Z"
    },
    "collapsed": false,
    "jupyter": {
     "outputs_hidden": false
    }
   },
   "outputs": [
    {
     "data": {
      "text/html": [
       "<div>\n",
       "<style scoped>\n",
       "    .dataframe tbody tr th:only-of-type {\n",
       "        vertical-align: middle;\n",
       "    }\n",
       "\n",
       "    .dataframe tbody tr th {\n",
       "        vertical-align: top;\n",
       "    }\n",
       "\n",
       "    .dataframe thead th {\n",
       "        text-align: right;\n",
       "    }\n",
       "</style>\n",
       "<table border=\"1\" class=\"dataframe\">\n",
       "  <thead>\n",
       "    <tr style=\"text-align: right;\">\n",
       "      <th></th>\n",
       "      <th>Game</th>\n",
       "      <th>Original</th>\n",
       "      <th>First Release</th>\n",
       "      <th>Platform</th>\n",
       "      <th>Re-release</th>\n",
       "      <th>Developer</th>\n",
       "      <th>Publisher</th>\n",
       "      <th>Genre</th>\n",
       "      <th>Subgenre</th>\n",
       "      <th>Main Story</th>\n",
       "      <th>Main + Extra</th>\n",
       "      <th>Completionist</th>\n",
       "      <th>Hours Played</th>\n",
       "      <th>% Completion</th>\n",
       "      <th>Metascore</th>\n",
       "      <th>User Score</th>\n",
       "    </tr>\n",
       "  </thead>\n",
       "  <tbody>\n",
       "    <tr>\n",
       "      <th>716</th>\n",
       "      <td>Screaming Chicken: Ultimate Showdown</td>\n",
       "      <td>Windows</td>\n",
       "      <td>2023-04-13 00:00:00</td>\n",
       "      <td>STEAM</td>\n",
       "      <td>2023-04-13 00:00:00</td>\n",
       "      <td>Chicken Studio</td>\n",
       "      <td>META Publishing</td>\n",
       "      <td>Idle</td>\n",
       "      <td>Party Game</td>\n",
       "      <td>NaN</td>\n",
       "      <td>NaN</td>\n",
       "      <td>NaN</td>\n",
       "      <td>0.0</td>\n",
       "      <td>0</td>\n",
       "      <td>NaN</td>\n",
       "      <td>NaN</td>\n",
       "    </tr>\n",
       "    <tr>\n",
       "      <th>730</th>\n",
       "      <td>Kindred Fates: Combat Arena Alpha</td>\n",
       "      <td>Windows</td>\n",
       "      <td>2021-05-03 00:00:00</td>\n",
       "      <td>STEAM</td>\n",
       "      <td>2021-05-03 00:00:00</td>\n",
       "      <td>Skymill Studios</td>\n",
       "      <td>Skymill Studios</td>\n",
       "      <td>Role-Playing Game</td>\n",
       "      <td>Monster Taming</td>\n",
       "      <td>NaN</td>\n",
       "      <td>NaN</td>\n",
       "      <td>NaN</td>\n",
       "      <td>0.0</td>\n",
       "      <td>-1</td>\n",
       "      <td>NaN</td>\n",
       "      <td>NaN</td>\n",
       "    </tr>\n",
       "    <tr>\n",
       "      <th>740</th>\n",
       "      <td>Forsaken Castle</td>\n",
       "      <td>Windows</td>\n",
       "      <td>Soon</td>\n",
       "      <td>STEAM</td>\n",
       "      <td>Soon</td>\n",
       "      <td>Duck Block Games</td>\n",
       "      <td>Duck Block Games</td>\n",
       "      <td>Action-Adventure</td>\n",
       "      <td>Metroidvania</td>\n",
       "      <td>NaN</td>\n",
       "      <td>NaN</td>\n",
       "      <td>NaN</td>\n",
       "      <td>0.0</td>\n",
       "      <td>-1</td>\n",
       "      <td>NaN</td>\n",
       "      <td>NaN</td>\n",
       "    </tr>\n",
       "    <tr>\n",
       "      <th>741</th>\n",
       "      <td>Hollow Knight: Silksong</td>\n",
       "      <td>Windows</td>\n",
       "      <td>Soon</td>\n",
       "      <td>STEAM</td>\n",
       "      <td>Soon</td>\n",
       "      <td>Team Cherry</td>\n",
       "      <td>Team Cherry</td>\n",
       "      <td>Action-Adventure</td>\n",
       "      <td>Metroidvania</td>\n",
       "      <td>NaN</td>\n",
       "      <td>NaN</td>\n",
       "      <td>NaN</td>\n",
       "      <td>0.0</td>\n",
       "      <td>-1</td>\n",
       "      <td>NaN</td>\n",
       "      <td>NaN</td>\n",
       "    </tr>\n",
       "    <tr>\n",
       "      <th>742</th>\n",
       "      <td>Ova Magica</td>\n",
       "      <td>Windows</td>\n",
       "      <td>Soon</td>\n",
       "      <td>STEAM</td>\n",
       "      <td>Soon</td>\n",
       "      <td>ClaudiaTheDev</td>\n",
       "      <td>Top Hat Studios</td>\n",
       "      <td>Simulation</td>\n",
       "      <td>Monster Taming</td>\n",
       "      <td>NaN</td>\n",
       "      <td>NaN</td>\n",
       "      <td>NaN</td>\n",
       "      <td>0.0</td>\n",
       "      <td>-1</td>\n",
       "      <td>NaN</td>\n",
       "      <td>NaN</td>\n",
       "    </tr>\n",
       "  </tbody>\n",
       "</table>\n",
       "</div>"
      ],
      "text/plain": [
       "                                     Game Original        First Release  \\\n",
       "716  Screaming Chicken: Ultimate Showdown  Windows  2023-04-13 00:00:00   \n",
       "730     Kindred Fates: Combat Arena Alpha  Windows  2021-05-03 00:00:00   \n",
       "740                       Forsaken Castle  Windows                 Soon   \n",
       "741               Hollow Knight: Silksong  Windows                 Soon   \n",
       "742                            Ova Magica  Windows                 Soon   \n",
       "\n",
       "    Platform           Re-release         Developer         Publisher  \\\n",
       "716    STEAM  2023-04-13 00:00:00    Chicken Studio   META Publishing   \n",
       "730    STEAM  2021-05-03 00:00:00   Skymill Studios   Skymill Studios   \n",
       "740    STEAM                 Soon  Duck Block Games  Duck Block Games   \n",
       "741    STEAM                 Soon       Team Cherry       Team Cherry   \n",
       "742    STEAM                 Soon     ClaudiaTheDev   Top Hat Studios   \n",
       "\n",
       "                 Genre        Subgenre  Main Story  Main + Extra  \\\n",
       "716               Idle      Party Game         NaN           NaN   \n",
       "730  Role-Playing Game  Monster Taming         NaN           NaN   \n",
       "740   Action-Adventure    Metroidvania         NaN           NaN   \n",
       "741   Action-Adventure    Metroidvania         NaN           NaN   \n",
       "742         Simulation  Monster Taming         NaN           NaN   \n",
       "\n",
       "     Completionist  Hours Played  % Completion  Metascore  User Score  \n",
       "716            NaN           0.0             0        NaN         NaN  \n",
       "730            NaN           0.0            -1        NaN         NaN  \n",
       "740            NaN           0.0            -1        NaN         NaN  \n",
       "741            NaN           0.0            -1        NaN         NaN  \n",
       "742            NaN           0.0            -1        NaN         NaN  "
      ]
     },
     "execution_count": 350,
     "metadata": {},
     "output_type": "execute_result"
    }
   ],
   "source": [
    "df[df[\"Main Story\"].isnull()]"
   ]
  },
  {
   "cell_type": "markdown",
   "id": "1d8324d51417d7ce",
   "metadata": {
    "collapsed": false,
    "jupyter": {
     "outputs_hidden": false
    }
   },
   "source": [
    "It looks like all of these games are either not released or have too little information.\n",
    "I will remove these rows from the dataframe."
   ]
  },
  {
   "cell_type": "code",
   "execution_count": 351,
   "id": "bbd4f7c0f9beceab",
   "metadata": {
    "ExecuteTime": {
     "end_time": "2023-07-31T06:01:04.498919Z",
     "start_time": "2023-07-31T06:01:04.182134Z"
    },
    "collapsed": false,
    "jupyter": {
     "outputs_hidden": false
    }
   },
   "outputs": [],
   "source": [
    "df = df.dropna(subset=[\"Main Story\"])"
   ]
  },
  {
   "cell_type": "code",
   "execution_count": 352,
   "id": "d6990696af849fae",
   "metadata": {
    "ExecuteTime": {
     "end_time": "2023-07-31T06:01:04.499988Z",
     "start_time": "2023-07-31T06:01:04.185506Z"
    },
    "collapsed": false,
    "jupyter": {
     "outputs_hidden": false
    }
   },
   "outputs": [
    {
     "data": {
      "text/plain": [
       "Game             0\n",
       "Original         0\n",
       "First Release    0\n",
       "Platform         0\n",
       "Re-release       0\n",
       "Developer        0\n",
       "Publisher        0\n",
       "Genre            0\n",
       "Subgenre         0\n",
       "Main Story       0\n",
       "Main + Extra     0\n",
       "Completionist    0\n",
       "Hours Played     8\n",
       "% Completion     0\n",
       "Metascore        1\n",
       "User Score       1\n",
       "dtype: int64"
      ]
     },
     "execution_count": 352,
     "metadata": {},
     "output_type": "execute_result"
    }
   ],
   "source": [
    "df.isnull().sum()"
   ]
  },
  {
   "cell_type": "markdown",
   "id": "e760f4f4518c1400",
   "metadata": {
    "collapsed": false,
    "jupyter": {
     "outputs_hidden": false
    }
   },
   "source": [
    "Now the dataframe is clean of null values."
   ]
  },
  {
   "cell_type": "markdown",
   "id": "d3c626887cbe0b61",
   "metadata": {
    "collapsed": false,
    "jupyter": {
     "outputs_hidden": false
    }
   },
   "source": [
    "### Check for duplicates\n",
    "\n",
    "Checking for duplicates will also allow for a cleaner dataframe."
   ]
  },
  {
   "cell_type": "code",
   "execution_count": 353,
   "id": "fb13f9ad41aeccf0",
   "metadata": {
    "ExecuteTime": {
     "end_time": "2023-07-31T06:01:04.500388Z",
     "start_time": "2023-07-31T06:01:04.188045Z"
    },
    "collapsed": false,
    "jupyter": {
     "outputs_hidden": false
    }
   },
   "outputs": [
    {
     "data": {
      "text/plain": [
       "0"
      ]
     },
     "execution_count": 353,
     "metadata": {},
     "output_type": "execute_result"
    }
   ],
   "source": [
    "df.duplicated().sum()"
   ]
  },
  {
   "cell_type": "markdown",
   "id": "b2da0942ba960d2c",
   "metadata": {
    "collapsed": false,
    "jupyter": {
     "outputs_hidden": false
    }
   },
   "source": [
    "There are no duplicates in the dataframe, so we can move on."
   ]
  },
  {
   "cell_type": "markdown",
   "id": "fe7d64b9c92de552",
   "metadata": {
    "collapsed": false,
    "jupyter": {
     "outputs_hidden": false
    }
   },
   "source": [
    "### Cleanup ruleset\n",
    "\n",
    "After doing the standard cleanup, I will apply a few rules to the dataframe.\n",
    "\n",
    "1. The `Hours Played` column will be used as a variable that defines how much my teacher likes a certain game. This will be key because if they have played a game for a long time, it means they like it but shouldn't be recommended again.\n",
    "2. The `Original` column will be discarded because it is not useful for the analysis. We have no way to know how much time my teacher played in the Original console, therefore, it is useless.\n",
    "3. The columns `Developer`and `Publisher` will be discarded since they can produce a bias in the analysis. If my teacher likes a game from a certain developer, it doesn't mean they will like another game from the same developer and vice versa.\n",
    "4. The rows that contain a 100 in `% Completion`will be discarded. This is because the games that have a 100% completion are games that my teacher has already completed and therefore, shouldn't be recommended again.\n",
    "5. The column `First Release` will be discarded since it; we cannot know how much time my teacher played the game in the original release.\n",
    "6. A new column `Score Average` will be created. This column will be the average of the `Metascore` and `User Score` columns.\n",
    "7. I will order the dataframe by the `Hours Played` column in descending order.\n",
    "\n",
    "During future steps of the analysis, these rules might also apply:\n",
    "1. Games that have a high `Hours Played` will have less possibility of being recommended, and most likely will be discarded.\n",
    "2. Games that have a low `Score Average` will have less possibility of being recommended, and most likely will be discarded.\n",
    "\n",
    "Additionally, my teacher asked for us to give her a game to play, but she did not mention if she wanted a game that she has already played or not. For the purpose of keeping her repository of games fresh, I will be inclined to recommend games that she has not played yet or that she has played very little."
   ]
  },
  {
   "cell_type": "markdown",
   "id": "cf80028855a6b796",
   "metadata": {
    "collapsed": false,
    "jupyter": {
     "outputs_hidden": false
    }
   },
   "source": []
  },
  {
   "cell_type": "code",
   "execution_count": 354,
   "id": "c9355f835ccc423",
   "metadata": {
    "ExecuteTime": {
     "end_time": "2023-07-31T06:01:04.500886Z",
     "start_time": "2023-07-31T06:01:04.192396Z"
    },
    "collapsed": false,
    "jupyter": {
     "outputs_hidden": false
    }
   },
   "outputs": [
    {
     "data": {
      "text/html": [
       "<div>\n",
       "<style scoped>\n",
       "    .dataframe tbody tr th:only-of-type {\n",
       "        vertical-align: middle;\n",
       "    }\n",
       "\n",
       "    .dataframe tbody tr th {\n",
       "        vertical-align: top;\n",
       "    }\n",
       "\n",
       "    .dataframe thead th {\n",
       "        text-align: right;\n",
       "    }\n",
       "</style>\n",
       "<table border=\"1\" class=\"dataframe\">\n",
       "  <thead>\n",
       "    <tr style=\"text-align: right;\">\n",
       "      <th></th>\n",
       "      <th>Game</th>\n",
       "      <th>Platform</th>\n",
       "      <th>Re-release</th>\n",
       "      <th>Genre</th>\n",
       "      <th>Subgenre</th>\n",
       "      <th>Main Story</th>\n",
       "      <th>Main + Extra</th>\n",
       "      <th>Completionist</th>\n",
       "      <th>Hours Played</th>\n",
       "      <th>% Completion</th>\n",
       "      <th>Metascore</th>\n",
       "      <th>User Score</th>\n",
       "      <th>Score Average</th>\n",
       "    </tr>\n",
       "  </thead>\n",
       "  <tbody>\n",
       "    <tr>\n",
       "      <th>47</th>\n",
       "      <td>Pokémon Rouge</td>\n",
       "      <td>3DS</td>\n",
       "      <td>1999-10-08 00:00:00</td>\n",
       "      <td>Role-Playing Game</td>\n",
       "      <td>Monster Taming</td>\n",
       "      <td>26.5</td>\n",
       "      <td>43.5</td>\n",
       "      <td>102.0</td>\n",
       "      <td>266.4</td>\n",
       "      <td>99</td>\n",
       "      <td>100.0</td>\n",
       "      <td>89.0</td>\n",
       "      <td>94.5</td>\n",
       "    </tr>\n",
       "    <tr>\n",
       "      <th>55</th>\n",
       "      <td>Pokémon Rumble World</td>\n",
       "      <td>3DS</td>\n",
       "      <td>2015-04-08 00:00:00</td>\n",
       "      <td>Role-Playing Game</td>\n",
       "      <td>Action RPG</td>\n",
       "      <td>23.0</td>\n",
       "      <td>46.5</td>\n",
       "      <td>115.0</td>\n",
       "      <td>218.2</td>\n",
       "      <td>95</td>\n",
       "      <td>58.0</td>\n",
       "      <td>61.0</td>\n",
       "      <td>59.5</td>\n",
       "    </tr>\n",
       "    <tr>\n",
       "      <th>84</th>\n",
       "      <td>Pokémon Omega Ruby</td>\n",
       "      <td>3DS</td>\n",
       "      <td>2014-11-21 00:00:00</td>\n",
       "      <td>Role-Playing Game</td>\n",
       "      <td>Monster Taming</td>\n",
       "      <td>25.5</td>\n",
       "      <td>52.0</td>\n",
       "      <td>161.0</td>\n",
       "      <td>203.2</td>\n",
       "      <td>57</td>\n",
       "      <td>83.0</td>\n",
       "      <td>75.0</td>\n",
       "      <td>79.0</td>\n",
       "    </tr>\n",
       "    <tr>\n",
       "      <th>76</th>\n",
       "      <td>Pokémon Sun</td>\n",
       "      <td>3DS</td>\n",
       "      <td>2016-11-18 00:00:00</td>\n",
       "      <td>Role-Playing Game</td>\n",
       "      <td>Monster Taming</td>\n",
       "      <td>33.0</td>\n",
       "      <td>59.0</td>\n",
       "      <td>139.0</td>\n",
       "      <td>166.1</td>\n",
       "      <td>68</td>\n",
       "      <td>87.0</td>\n",
       "      <td>76.0</td>\n",
       "      <td>81.5</td>\n",
       "    </tr>\n",
       "    <tr>\n",
       "      <th>94</th>\n",
       "      <td>Pokémon Platinum</td>\n",
       "      <td>3DS</td>\n",
       "      <td>2008-09-13 00:00:00</td>\n",
       "      <td>Role-Playing Game</td>\n",
       "      <td>Monster Taming</td>\n",
       "      <td>35.0</td>\n",
       "      <td>68.5</td>\n",
       "      <td>235.0</td>\n",
       "      <td>105.8</td>\n",
       "      <td>44</td>\n",
       "      <td>83.0</td>\n",
       "      <td>89.0</td>\n",
       "      <td>86.0</td>\n",
       "    </tr>\n",
       "  </tbody>\n",
       "</table>\n",
       "</div>"
      ],
      "text/plain": [
       "                    Game Platform           Re-release              Genre  \\\n",
       "47         Pokémon Rouge      3DS  1999-10-08 00:00:00  Role-Playing Game   \n",
       "55  Pokémon Rumble World      3DS  2015-04-08 00:00:00  Role-Playing Game   \n",
       "84    Pokémon Omega Ruby      3DS  2014-11-21 00:00:00  Role-Playing Game   \n",
       "76           Pokémon Sun      3DS  2016-11-18 00:00:00  Role-Playing Game   \n",
       "94      Pokémon Platinum      3DS  2008-09-13 00:00:00  Role-Playing Game   \n",
       "\n",
       "          Subgenre  Main Story  Main + Extra  Completionist  Hours Played  \\\n",
       "47  Monster Taming        26.5          43.5          102.0         266.4   \n",
       "55      Action RPG        23.0          46.5          115.0         218.2   \n",
       "84  Monster Taming        25.5          52.0          161.0         203.2   \n",
       "76  Monster Taming        33.0          59.0          139.0         166.1   \n",
       "94  Monster Taming        35.0          68.5          235.0         105.8   \n",
       "\n",
       "    % Completion  Metascore  User Score  Score Average  \n",
       "47            99      100.0        89.0           94.5  \n",
       "55            95       58.0        61.0           59.5  \n",
       "84            57       83.0        75.0           79.0  \n",
       "76            68       87.0        76.0           81.5  \n",
       "94            44       83.0        89.0           86.0  "
      ]
     },
     "execution_count": 354,
     "metadata": {},
     "output_type": "execute_result"
    }
   ],
   "source": [
    "df = df.drop(columns=[\"Original\", \"Developer\", \"Publisher\", \"First Release\"])\n",
    "df = df[df[\"% Completion\"] != 100]\n",
    "df[\"Score Average\"] = (df[\"Metascore\"] + df[\"User Score\"]) / 2\n",
    "df = df.sort_values(by=[\"Hours Played\"], ascending=False)\n",
    "\n",
    "df.head()"
   ]
  },
  {
   "cell_type": "markdown",
   "id": "f6dbd501288d3de8",
   "metadata": {
    "collapsed": false,
    "jupyter": {
     "outputs_hidden": false
    }
   },
   "source": [
    "## Exploratory Data Analysis"
   ]
  },
  {
   "cell_type": "markdown",
   "id": "b4a810a7a5363a8d",
   "metadata": {
    "collapsed": false,
    "jupyter": {
     "outputs_hidden": false
    }
   },
   "source": [
    "The first relationship I want to explore is the time spent playing each genre.\n",
    "This will most likely help determine which genre my teacher likes the most and thus, which genre to recommend."
   ]
  },
  {
   "cell_type": "code",
   "execution_count": 355,
   "id": "3c2fbf073c76c531",
   "metadata": {
    "ExecuteTime": {
     "end_time": "2023-07-31T06:01:04.548895Z",
     "start_time": "2023-07-31T06:01:04.201824Z"
    },
    "collapsed": false,
    "jupyter": {
     "outputs_hidden": false
    }
   },
   "outputs": [
    {
     "data": {
      "text/plain": [
       "<Axes: xlabel='Genre'>"
      ]
     },
     "execution_count": 355,
     "metadata": {},
     "output_type": "execute_result"
    },
    {
     "data": {
      "image/png": "[encoded data removed]",
      "text/plain": [
       "<Figure size 640x480 with 1 Axes>"
      ]
     },
     "metadata": {},
     "output_type": "display_data"
    }
   ],
   "source": [
    "df.groupby(\"Genre\")[\"Hours Played\"].sum().sort_values(ascending=False).plot.bar()"
   ]
  },
  {
   "cell_type": "markdown",
   "id": "fad4489c193d9a72",
   "metadata": {
    "collapsed": false,
    "jupyter": {
     "outputs_hidden": false
    }
   },
   "source": [
    "We can observe here that the genre that my teacher has played the most is Role-Playing Game.\n",
    "I will now create a new dataframe that contains only the Role-Playing Games."
   ]
  },
  {
   "cell_type": "code",
   "execution_count": 356,
   "id": "e8eb9b27294215af",
   "metadata": {
    "ExecuteTime": {
     "end_time": "2023-07-31T06:01:04.549015Z",
     "start_time": "2023-07-31T06:01:04.283163Z"
    },
    "collapsed": false,
    "jupyter": {
     "outputs_hidden": false
    }
   },
   "outputs": [],
   "source": [
    "rpg_df = df[df[\"Genre\"] == \"Role-Playing Game\"].sort_values(by=[\"Hours Played\"], ascending=False)"
   ]
  },
  {
   "cell_type": "markdown",
   "id": "be9134292b53c002",
   "metadata": {
    "collapsed": false,
    "jupyter": {
     "outputs_hidden": false
    }
   },
   "source": [
    "Creating a visualization between the hours played of each game and the completion percentage will help us determine if there is a correlation between the two.\n",
    "\n",
    "For this next step, I will also implement a tendency line to help visualize the correlation."
   ]
  },
  {
   "cell_type": "code",
   "execution_count": 357,
   "id": "2aa375489bdacf92",
   "metadata": {
    "ExecuteTime": {
     "end_time": "2023-07-31T06:01:04.549402Z",
     "start_time": "2023-07-31T06:01:04.286528Z"
    },
    "collapsed": false,
    "jupyter": {
     "outputs_hidden": false
    }
   },
   "outputs": [
    {
     "data": {
      "text/plain": [
       "[<matplotlib.lines.Line2D at 0x15edd7450>]"
      ]
     },
     "execution_count": 357,
     "metadata": {},
     "output_type": "execute_result"
    },
    {
     "data": {
      "image/png": "[encoded data removed]",
      "text/plain": [
       "<Figure size 640x480 with 1 Axes>"
      ]
     },
     "metadata": {},
     "output_type": "display_data"
    }
   ],
   "source": [
    "x = rpg_df[\"Hours Played\"]\n",
    "y = rpg_df[\"% Completion\"]\n",
    "\n",
    "z = np.polyfit(x, y, 1)\n",
    "p = np.poly1d(z)\n",
    "\n",
    "rpg_df.plot.scatter(x=\"Hours Played\", y=\"% Completion\")\n",
    "plt.plot(x, p(x), \"r--\")"
   ]
  },
  {
   "cell_type": "markdown",
   "id": "240325398c478199",
   "metadata": {
    "collapsed": false,
    "jupyter": {
     "outputs_hidden": false
    }
   },
   "source": [
    "There seems to be a linear correlation between the two variables.\n",
    "This means that the more hours my teacher plays a game, the more likely she is to complete it.\n",
    "\n",
    "This also means that all the games that she has little to no play time should be our priority.\n",
    "I will remove all the games that have more than 100 hours played or more than 50% completion."
   ]
  },
  {
   "cell_type": "code",
   "execution_count": 358,
   "id": "e75f810e1e65a298",
   "metadata": {
    "ExecuteTime": {
     "end_time": "2023-07-31T06:01:04.549442Z",
     "start_time": "2023-07-31T06:01:04.353675Z"
    },
    "collapsed": false,
    "jupyter": {
     "outputs_hidden": false
    }
   },
   "outputs": [],
   "source": [
    "rpg_df = rpg_df[(rpg_df[\"Hours Played\"] < 100)]\n",
    "rpg_df = rpg_df[(rpg_df[\"% Completion\"] < 50)]"
   ]
  },
  {
   "cell_type": "markdown",
   "id": "61aabd183a9b4c1c",
   "metadata": {
    "collapsed": false,
    "jupyter": {
     "outputs_hidden": false
    }
   },
   "source": [
    "Exploring the relation between the time played and the score average will help us determine if there is a correlation between the two."
   ]
  },
  {
   "cell_type": "code",
   "execution_count": 359,
   "id": "65a0eb368fcdc95c",
   "metadata": {
    "ExecuteTime": {
     "end_time": "2023-07-31T06:01:04.549607Z",
     "start_time": "2023-07-31T06:01:04.357692Z"
    },
    "collapsed": false,
    "jupyter": {
     "outputs_hidden": false
    }
   },
   "outputs": [
    {
     "data": {
      "text/plain": [
       "<Axes: xlabel='Hours Played', ylabel='Score Average'>"
      ]
     },
     "execution_count": 359,
     "metadata": {},
     "output_type": "execute_result"
    },
    {
     "data": {
      "image/png": "[encoded data removed]",
      "text/plain": [
       "<Figure size 640x480 with 1 Axes>"
      ]
     },
     "metadata": {},
     "output_type": "display_data"
    }
   ],
   "source": [
    "rpg_df.plot.scatter(x=\"Hours Played\", y=\"Score Average\")"
   ]
  },
  {
   "cell_type": "markdown",
   "id": "6a81c21c0e6e5cb3",
   "metadata": {
    "collapsed": false,
    "jupyter": {
     "outputs_hidden": false
    }
   },
   "source": [
    "It looks like there is a very vague correlation between the two variables.\n",
    "The average of score seems to be higher than 50, but there are a ton of games that my teacher has played for less than 10 hours, so this relation is not significant."
   ]
  },
  {
   "cell_type": "markdown",
   "id": "ae12e2ba11186ddd",
   "metadata": {
    "collapsed": false,
    "jupyter": {
     "outputs_hidden": false
    }
   },
   "source": [
    "Finally, I want to see the relation between the Role-Playing Games and the subgenres.\n",
    "For this, I will make a graph that shows the number of hours played for each subgenre, inside the Role-Playing Games genre."
   ]
  },
  {
   "cell_type": "code",
   "execution_count": 360,
   "id": "882ea44fcff140a9",
   "metadata": {
    "ExecuteTime": {
     "end_time": "2023-07-31T06:01:04.549723Z",
     "start_time": "2023-07-31T06:01:04.427397Z"
    },
    "collapsed": false,
    "jupyter": {
     "outputs_hidden": false
    }
   },
   "outputs": [
    {
     "data": {
      "text/plain": [
       "<Axes: xlabel='Subgenre'>"
      ]
     },
     "execution_count": 360,
     "metadata": {},
     "output_type": "execute_result"
    },
    {
     "data": {
      "image/png": "[encoded data removed]",
      "text/plain": [
       "<Figure size 640x480 with 1 Axes>"
      ]
     },
     "metadata": {},
     "output_type": "display_data"
    }
   ],
   "source": [
    "rpg_df.groupby(\"Subgenre\")[\"Hours Played\"].sum().sort_values(ascending=False).plot.bar()"
   ]
  },
  {
   "cell_type": "markdown",
   "id": "459f3b4330903443",
   "metadata": {
    "collapsed": false,
    "jupyter": {
     "outputs_hidden": false
    }
   },
   "source": [
    "The subgenre inside the Role-Playing Games genre that my teacher has played the most is Monster Taming. Let's see which games are in this subgenre."
   ]
  },
  {
   "cell_type": "code",
   "execution_count": 361,
   "id": "116443eea79b089",
   "metadata": {
    "ExecuteTime": {
     "end_time": "2023-07-31T06:01:04.595446Z",
     "start_time": "2023-07-31T06:01:04.493033Z"
    },
    "collapsed": false,
    "jupyter": {
     "outputs_hidden": false
    }
   },
   "outputs": [
    {
     "data": {
      "text/html": [
       "<div>\n",
       "<style scoped>\n",
       "    .dataframe tbody tr th:only-of-type {\n",
       "        vertical-align: middle;\n",
       "    }\n",
       "\n",
       "    .dataframe tbody tr th {\n",
       "        vertical-align: top;\n",
       "    }\n",
       "\n",
       "    .dataframe thead th {\n",
       "        text-align: right;\n",
       "    }\n",
       "</style>\n",
       "<table border=\"1\" class=\"dataframe\">\n",
       "  <thead>\n",
       "    <tr style=\"text-align: right;\">\n",
       "      <th></th>\n",
       "      <th>Game</th>\n",
       "      <th>Platform</th>\n",
       "      <th>Re-release</th>\n",
       "      <th>Genre</th>\n",
       "      <th>Subgenre</th>\n",
       "      <th>Main Story</th>\n",
       "      <th>Main + Extra</th>\n",
       "      <th>Completionist</th>\n",
       "      <th>Hours Played</th>\n",
       "      <th>% Completion</th>\n",
       "      <th>Metascore</th>\n",
       "      <th>User Score</th>\n",
       "      <th>Score Average</th>\n",
       "    </tr>\n",
       "  </thead>\n",
       "  <tbody>\n",
       "    <tr>\n",
       "      <th>124</th>\n",
       "      <td>Pokémon HeartGold</td>\n",
       "      <td>3DS</td>\n",
       "      <td>2009-09-12 00:00:00</td>\n",
       "      <td>Role-Playing Game</td>\n",
       "      <td>Monster Taming</td>\n",
       "      <td>37.0</td>\n",
       "      <td>72.5</td>\n",
       "      <td>214.0</td>\n",
       "      <td>49.6</td>\n",
       "      <td>14</td>\n",
       "      <td>87.0</td>\n",
       "      <td>91.0</td>\n",
       "      <td>89.0</td>\n",
       "    </tr>\n",
       "    <tr>\n",
       "      <th>100</th>\n",
       "      <td>Pokémon Y</td>\n",
       "      <td>3DS</td>\n",
       "      <td>2013-10-12 00:00:00</td>\n",
       "      <td>Role-Playing Game</td>\n",
       "      <td>Monster Taming</td>\n",
       "      <td>31.5</td>\n",
       "      <td>71.0</td>\n",
       "      <td>205.0</td>\n",
       "      <td>32.6</td>\n",
       "      <td>38</td>\n",
       "      <td>88.0</td>\n",
       "      <td>75.0</td>\n",
       "      <td>81.5</td>\n",
       "    </tr>\n",
       "    <tr>\n",
       "      <th>151</th>\n",
       "      <td>Pokémon Ultra Sun</td>\n",
       "      <td>3DS</td>\n",
       "      <td>2017-11-17 00:00:00</td>\n",
       "      <td>Role-Playing Game</td>\n",
       "      <td>Monster Taming</td>\n",
       "      <td>33.5</td>\n",
       "      <td>56.5</td>\n",
       "      <td>122.0</td>\n",
       "      <td>23.6</td>\n",
       "      <td>6</td>\n",
       "      <td>84.0</td>\n",
       "      <td>77.0</td>\n",
       "      <td>80.5</td>\n",
       "    </tr>\n",
       "    <tr>\n",
       "      <th>153</th>\n",
       "      <td>Pokémon White</td>\n",
       "      <td>3DS</td>\n",
       "      <td>2010-09-18 00:00:00</td>\n",
       "      <td>Role-Playing Game</td>\n",
       "      <td>Monster Taming</td>\n",
       "      <td>32.5</td>\n",
       "      <td>62.0</td>\n",
       "      <td>160.0</td>\n",
       "      <td>13.6</td>\n",
       "      <td>5</td>\n",
       "      <td>87.0</td>\n",
       "      <td>78.0</td>\n",
       "      <td>82.5</td>\n",
       "    </tr>\n",
       "    <tr>\n",
       "      <th>499</th>\n",
       "      <td>Pokémon White 2</td>\n",
       "      <td>3DS</td>\n",
       "      <td>2012-06-23 00:00:00</td>\n",
       "      <td>Role-Playing Game</td>\n",
       "      <td>Monster Taming</td>\n",
       "      <td>34.5</td>\n",
       "      <td>64.0</td>\n",
       "      <td>191.0</td>\n",
       "      <td>0.6</td>\n",
       "      <td>0</td>\n",
       "      <td>80.0</td>\n",
       "      <td>80.0</td>\n",
       "      <td>80.0</td>\n",
       "    </tr>\n",
       "    <tr>\n",
       "      <th>375</th>\n",
       "      <td>Pokémon FireRed</td>\n",
       "      <td>GBA</td>\n",
       "      <td>2004-09-09 00:00:00</td>\n",
       "      <td>Role-Playing Game</td>\n",
       "      <td>Monster Taming</td>\n",
       "      <td>29.5</td>\n",
       "      <td>51.0</td>\n",
       "      <td>148.0</td>\n",
       "      <td>0.0</td>\n",
       "      <td>0</td>\n",
       "      <td>81.0</td>\n",
       "      <td>86.0</td>\n",
       "      <td>83.5</td>\n",
       "    </tr>\n",
       "    <tr>\n",
       "      <th>382</th>\n",
       "      <td>Pokémon Emerald</td>\n",
       "      <td>GBA</td>\n",
       "      <td>2005-05-01 00:00:00</td>\n",
       "      <td>Role-Playing Game</td>\n",
       "      <td>Monster Taming</td>\n",
       "      <td>30.5</td>\n",
       "      <td>65.5</td>\n",
       "      <td>201.0</td>\n",
       "      <td>0.0</td>\n",
       "      <td>0</td>\n",
       "      <td>76.0</td>\n",
       "      <td>89.0</td>\n",
       "      <td>82.5</td>\n",
       "    </tr>\n",
       "    <tr>\n",
       "      <th>711</th>\n",
       "      <td>Rainbow Billy: The Curse of the Leviathan</td>\n",
       "      <td>STEAM</td>\n",
       "      <td>2021-10-05 00:00:00</td>\n",
       "      <td>Role-Playing Game</td>\n",
       "      <td>Monster Taming</td>\n",
       "      <td>11.0</td>\n",
       "      <td>16.0</td>\n",
       "      <td>21.5</td>\n",
       "      <td>0.0</td>\n",
       "      <td>0</td>\n",
       "      <td>81.0</td>\n",
       "      <td>68.0</td>\n",
       "      <td>74.5</td>\n",
       "    </tr>\n",
       "    <tr>\n",
       "      <th>643</th>\n",
       "      <td>Monster Hunter: World</td>\n",
       "      <td>STEAM</td>\n",
       "      <td>2018-08-09 00:00:00</td>\n",
       "      <td>Role-Playing Game</td>\n",
       "      <td>Monster Taming</td>\n",
       "      <td>48.0</td>\n",
       "      <td>108.0</td>\n",
       "      <td>402.0</td>\n",
       "      <td>0.0</td>\n",
       "      <td>0</td>\n",
       "      <td>88.0</td>\n",
       "      <td>68.0</td>\n",
       "      <td>78.0</td>\n",
       "    </tr>\n",
       "    <tr>\n",
       "      <th>608</th>\n",
       "      <td>World of Final Fantasy</td>\n",
       "      <td>STEAM</td>\n",
       "      <td>2017-11-21 00:00:00</td>\n",
       "      <td>Role-Playing Game</td>\n",
       "      <td>Monster Taming</td>\n",
       "      <td>35.5</td>\n",
       "      <td>47.0</td>\n",
       "      <td>83.0</td>\n",
       "      <td>0.0</td>\n",
       "      <td>0</td>\n",
       "      <td>77.0</td>\n",
       "      <td>77.0</td>\n",
       "      <td>77.0</td>\n",
       "    </tr>\n",
       "    <tr>\n",
       "      <th>715</th>\n",
       "      <td>Coromon</td>\n",
       "      <td>STEAM</td>\n",
       "      <td>2022-03-31 00:00:00</td>\n",
       "      <td>Role-Playing Game</td>\n",
       "      <td>Monster Taming</td>\n",
       "      <td>24.0</td>\n",
       "      <td>34.0</td>\n",
       "      <td>49.0</td>\n",
       "      <td>0.0</td>\n",
       "      <td>0</td>\n",
       "      <td>73.0</td>\n",
       "      <td>78.0</td>\n",
       "      <td>75.5</td>\n",
       "    </tr>\n",
       "    <tr>\n",
       "      <th>717</th>\n",
       "      <td>Cassette Beasts</td>\n",
       "      <td>STEAM</td>\n",
       "      <td>2023-04-26 00:00:00</td>\n",
       "      <td>Role-Playing Game</td>\n",
       "      <td>Monster Taming</td>\n",
       "      <td>17.5</td>\n",
       "      <td>24.0</td>\n",
       "      <td>24.0</td>\n",
       "      <td>0.0</td>\n",
       "      <td>0</td>\n",
       "      <td>83.0</td>\n",
       "      <td>80.0</td>\n",
       "      <td>81.5</td>\n",
       "    </tr>\n",
       "    <tr>\n",
       "      <th>696</th>\n",
       "      <td>Nexomon: Extinction</td>\n",
       "      <td>STEAM</td>\n",
       "      <td>2020-08-28 00:00:00</td>\n",
       "      <td>Role-Playing Game</td>\n",
       "      <td>Monster Taming</td>\n",
       "      <td>25.5</td>\n",
       "      <td>34.5</td>\n",
       "      <td>63.0</td>\n",
       "      <td>0.0</td>\n",
       "      <td>0</td>\n",
       "      <td>71.0</td>\n",
       "      <td>82.0</td>\n",
       "      <td>76.5</td>\n",
       "    </tr>\n",
       "  </tbody>\n",
       "</table>\n",
       "</div>"
      ],
      "text/plain": [
       "                                          Game Platform           Re-release  \\\n",
       "124                          Pokémon HeartGold      3DS  2009-09-12 00:00:00   \n",
       "100                                  Pokémon Y      3DS  2013-10-12 00:00:00   \n",
       "151                          Pokémon Ultra Sun      3DS  2017-11-17 00:00:00   \n",
       "153                              Pokémon White      3DS  2010-09-18 00:00:00   \n",
       "499                            Pokémon White 2      3DS  2012-06-23 00:00:00   \n",
       "375                            Pokémon FireRed      GBA  2004-09-09 00:00:00   \n",
       "382                            Pokémon Emerald      GBA  2005-05-01 00:00:00   \n",
       "711  Rainbow Billy: The Curse of the Leviathan    STEAM  2021-10-05 00:00:00   \n",
       "643                      Monster Hunter: World    STEAM  2018-08-09 00:00:00   \n",
       "608                     World of Final Fantasy    STEAM  2017-11-21 00:00:00   \n",
       "715                                    Coromon    STEAM  2022-03-31 00:00:00   \n",
       "717                            Cassette Beasts    STEAM  2023-04-26 00:00:00   \n",
       "696                        Nexomon: Extinction    STEAM  2020-08-28 00:00:00   \n",
       "\n",
       "                 Genre        Subgenre  Main Story  Main + Extra  \\\n",
       "124  Role-Playing Game  Monster Taming        37.0          72.5   \n",
       "100  Role-Playing Game  Monster Taming        31.5          71.0   \n",
       "151  Role-Playing Game  Monster Taming        33.5          56.5   \n",
       "153  Role-Playing Game  Monster Taming        32.5          62.0   \n",
       "499  Role-Playing Game  Monster Taming        34.5          64.0   \n",
       "375  Role-Playing Game  Monster Taming        29.5          51.0   \n",
       "382  Role-Playing Game  Monster Taming        30.5          65.5   \n",
       "711  Role-Playing Game  Monster Taming        11.0          16.0   \n",
       "643  Role-Playing Game  Monster Taming        48.0         108.0   \n",
       "608  Role-Playing Game  Monster Taming        35.5          47.0   \n",
       "715  Role-Playing Game  Monster Taming        24.0          34.0   \n",
       "717  Role-Playing Game  Monster Taming        17.5          24.0   \n",
       "696  Role-Playing Game  Monster Taming        25.5          34.5   \n",
       "\n",
       "     Completionist  Hours Played  % Completion  Metascore  User Score  \\\n",
       "124          214.0          49.6            14       87.0        91.0   \n",
       "100          205.0          32.6            38       88.0        75.0   \n",
       "151          122.0          23.6             6       84.0        77.0   \n",
       "153          160.0          13.6             5       87.0        78.0   \n",
       "499          191.0           0.6             0       80.0        80.0   \n",
       "375          148.0           0.0             0       81.0        86.0   \n",
       "382          201.0           0.0             0       76.0        89.0   \n",
       "711           21.5           0.0             0       81.0        68.0   \n",
       "643          402.0           0.0             0       88.0        68.0   \n",
       "608           83.0           0.0             0       77.0        77.0   \n",
       "715           49.0           0.0             0       73.0        78.0   \n",
       "717           24.0           0.0             0       83.0        80.0   \n",
       "696           63.0           0.0             0       71.0        82.0   \n",
       "\n",
       "     Score Average  \n",
       "124           89.0  \n",
       "100           81.5  \n",
       "151           80.5  \n",
       "153           82.5  \n",
       "499           80.0  \n",
       "375           83.5  \n",
       "382           82.5  \n",
       "711           74.5  \n",
       "643           78.0  \n",
       "608           77.0  \n",
       "715           75.5  \n",
       "717           81.5  \n",
       "696           76.5  "
      ]
     },
     "execution_count": 361,
     "metadata": {},
     "output_type": "execute_result"
    }
   ],
   "source": [
    "rpg_df = rpg_df[rpg_df[\"Subgenre\"] == \"Monster Taming\"].sort_values(by=[\"Hours Played\"], ascending=False)\n",
    "rpg_df.head(len(rpg_df))"
   ]
  },
  {
   "cell_type": "markdown",
   "id": "1b16d6fd3273d94e",
   "metadata": {
    "collapsed": false,
    "jupyter": {
     "outputs_hidden": false
    }
   },
   "source": [
    "Looking at the current dataframe, I can see that there are multiple games with 0 hours played.\n",
    "These games are the ones that I am looking for, since they are the ones that my teacher has not played yet.\n",
    "\n",
    "I will now create a new dataframe that contains only the games that my teacher has not played yet."
   ]
  },
  {
   "cell_type": "code",
   "execution_count": 362,
   "id": "9cfb162c07e6a4ec",
   "metadata": {
    "ExecuteTime": {
     "end_time": "2023-07-31T06:01:04.598504Z",
     "start_time": "2023-07-31T06:01:04.500629Z"
    },
    "collapsed": false,
    "jupyter": {
     "outputs_hidden": false
    }
   },
   "outputs": [
    {
     "data": {
      "text/html": [
       "<div>\n",
       "<style scoped>\n",
       "    .dataframe tbody tr th:only-of-type {\n",
       "        vertical-align: middle;\n",
       "    }\n",
       "\n",
       "    .dataframe tbody tr th {\n",
       "        vertical-align: top;\n",
       "    }\n",
       "\n",
       "    .dataframe thead th {\n",
       "        text-align: right;\n",
       "    }\n",
       "</style>\n",
       "<table border=\"1\" class=\"dataframe\">\n",
       "  <thead>\n",
       "    <tr style=\"text-align: right;\">\n",
       "      <th></th>\n",
       "      <th>Game</th>\n",
       "      <th>Platform</th>\n",
       "      <th>Re-release</th>\n",
       "      <th>Genre</th>\n",
       "      <th>Subgenre</th>\n",
       "      <th>Main Story</th>\n",
       "      <th>Main + Extra</th>\n",
       "      <th>Completionist</th>\n",
       "      <th>Hours Played</th>\n",
       "      <th>% Completion</th>\n",
       "      <th>Metascore</th>\n",
       "      <th>User Score</th>\n",
       "      <th>Score Average</th>\n",
       "    </tr>\n",
       "  </thead>\n",
       "  <tbody>\n",
       "    <tr>\n",
       "      <th>375</th>\n",
       "      <td>Pokémon FireRed</td>\n",
       "      <td>GBA</td>\n",
       "      <td>2004-09-09 00:00:00</td>\n",
       "      <td>Role-Playing Game</td>\n",
       "      <td>Monster Taming</td>\n",
       "      <td>29.5</td>\n",
       "      <td>51.0</td>\n",
       "      <td>148.0</td>\n",
       "      <td>0.0</td>\n",
       "      <td>0</td>\n",
       "      <td>81.0</td>\n",
       "      <td>86.0</td>\n",
       "      <td>83.5</td>\n",
       "    </tr>\n",
       "    <tr>\n",
       "      <th>382</th>\n",
       "      <td>Pokémon Emerald</td>\n",
       "      <td>GBA</td>\n",
       "      <td>2005-05-01 00:00:00</td>\n",
       "      <td>Role-Playing Game</td>\n",
       "      <td>Monster Taming</td>\n",
       "      <td>30.5</td>\n",
       "      <td>65.5</td>\n",
       "      <td>201.0</td>\n",
       "      <td>0.0</td>\n",
       "      <td>0</td>\n",
       "      <td>76.0</td>\n",
       "      <td>89.0</td>\n",
       "      <td>82.5</td>\n",
       "    </tr>\n",
       "    <tr>\n",
       "      <th>711</th>\n",
       "      <td>Rainbow Billy: The Curse of the Leviathan</td>\n",
       "      <td>STEAM</td>\n",
       "      <td>2021-10-05 00:00:00</td>\n",
       "      <td>Role-Playing Game</td>\n",
       "      <td>Monster Taming</td>\n",
       "      <td>11.0</td>\n",
       "      <td>16.0</td>\n",
       "      <td>21.5</td>\n",
       "      <td>0.0</td>\n",
       "      <td>0</td>\n",
       "      <td>81.0</td>\n",
       "      <td>68.0</td>\n",
       "      <td>74.5</td>\n",
       "    </tr>\n",
       "    <tr>\n",
       "      <th>643</th>\n",
       "      <td>Monster Hunter: World</td>\n",
       "      <td>STEAM</td>\n",
       "      <td>2018-08-09 00:00:00</td>\n",
       "      <td>Role-Playing Game</td>\n",
       "      <td>Monster Taming</td>\n",
       "      <td>48.0</td>\n",
       "      <td>108.0</td>\n",
       "      <td>402.0</td>\n",
       "      <td>0.0</td>\n",
       "      <td>0</td>\n",
       "      <td>88.0</td>\n",
       "      <td>68.0</td>\n",
       "      <td>78.0</td>\n",
       "    </tr>\n",
       "    <tr>\n",
       "      <th>608</th>\n",
       "      <td>World of Final Fantasy</td>\n",
       "      <td>STEAM</td>\n",
       "      <td>2017-11-21 00:00:00</td>\n",
       "      <td>Role-Playing Game</td>\n",
       "      <td>Monster Taming</td>\n",
       "      <td>35.5</td>\n",
       "      <td>47.0</td>\n",
       "      <td>83.0</td>\n",
       "      <td>0.0</td>\n",
       "      <td>0</td>\n",
       "      <td>77.0</td>\n",
       "      <td>77.0</td>\n",
       "      <td>77.0</td>\n",
       "    </tr>\n",
       "    <tr>\n",
       "      <th>715</th>\n",
       "      <td>Coromon</td>\n",
       "      <td>STEAM</td>\n",
       "      <td>2022-03-31 00:00:00</td>\n",
       "      <td>Role-Playing Game</td>\n",
       "      <td>Monster Taming</td>\n",
       "      <td>24.0</td>\n",
       "      <td>34.0</td>\n",
       "      <td>49.0</td>\n",
       "      <td>0.0</td>\n",
       "      <td>0</td>\n",
       "      <td>73.0</td>\n",
       "      <td>78.0</td>\n",
       "      <td>75.5</td>\n",
       "    </tr>\n",
       "    <tr>\n",
       "      <th>717</th>\n",
       "      <td>Cassette Beasts</td>\n",
       "      <td>STEAM</td>\n",
       "      <td>2023-04-26 00:00:00</td>\n",
       "      <td>Role-Playing Game</td>\n",
       "      <td>Monster Taming</td>\n",
       "      <td>17.5</td>\n",
       "      <td>24.0</td>\n",
       "      <td>24.0</td>\n",
       "      <td>0.0</td>\n",
       "      <td>0</td>\n",
       "      <td>83.0</td>\n",
       "      <td>80.0</td>\n",
       "      <td>81.5</td>\n",
       "    </tr>\n",
       "    <tr>\n",
       "      <th>696</th>\n",
       "      <td>Nexomon: Extinction</td>\n",
       "      <td>STEAM</td>\n",
       "      <td>2020-08-28 00:00:00</td>\n",
       "      <td>Role-Playing Game</td>\n",
       "      <td>Monster Taming</td>\n",
       "      <td>25.5</td>\n",
       "      <td>34.5</td>\n",
       "      <td>63.0</td>\n",
       "      <td>0.0</td>\n",
       "      <td>0</td>\n",
       "      <td>71.0</td>\n",
       "      <td>82.0</td>\n",
       "      <td>76.5</td>\n",
       "    </tr>\n",
       "  </tbody>\n",
       "</table>\n",
       "</div>"
      ],
      "text/plain": [
       "                                          Game Platform           Re-release  \\\n",
       "375                            Pokémon FireRed      GBA  2004-09-09 00:00:00   \n",
       "382                            Pokémon Emerald      GBA  2005-05-01 00:00:00   \n",
       "711  Rainbow Billy: The Curse of the Leviathan    STEAM  2021-10-05 00:00:00   \n",
       "643                      Monster Hunter: World    STEAM  2018-08-09 00:00:00   \n",
       "608                     World of Final Fantasy    STEAM  2017-11-21 00:00:00   \n",
       "715                                    Coromon    STEAM  2022-03-31 00:00:00   \n",
       "717                            Cassette Beasts    STEAM  2023-04-26 00:00:00   \n",
       "696                        Nexomon: Extinction    STEAM  2020-08-28 00:00:00   \n",
       "\n",
       "                 Genre        Subgenre  Main Story  Main + Extra  \\\n",
       "375  Role-Playing Game  Monster Taming        29.5          51.0   \n",
       "382  Role-Playing Game  Monster Taming        30.5          65.5   \n",
       "711  Role-Playing Game  Monster Taming        11.0          16.0   \n",
       "643  Role-Playing Game  Monster Taming        48.0         108.0   \n",
       "608  Role-Playing Game  Monster Taming        35.5          47.0   \n",
       "715  Role-Playing Game  Monster Taming        24.0          34.0   \n",
       "717  Role-Playing Game  Monster Taming        17.5          24.0   \n",
       "696  Role-Playing Game  Monster Taming        25.5          34.5   \n",
       "\n",
       "     Completionist  Hours Played  % Completion  Metascore  User Score  \\\n",
       "375          148.0           0.0             0       81.0        86.0   \n",
       "382          201.0           0.0             0       76.0        89.0   \n",
       "711           21.5           0.0             0       81.0        68.0   \n",
       "643          402.0           0.0             0       88.0        68.0   \n",
       "608           83.0           0.0             0       77.0        77.0   \n",
       "715           49.0           0.0             0       73.0        78.0   \n",
       "717           24.0           0.0             0       83.0        80.0   \n",
       "696           63.0           0.0             0       71.0        82.0   \n",
       "\n",
       "     Score Average  \n",
       "375           83.5  \n",
       "382           82.5  \n",
       "711           74.5  \n",
       "643           78.0  \n",
       "608           77.0  \n",
       "715           75.5  \n",
       "717           81.5  \n",
       "696           76.5  "
      ]
     },
     "execution_count": 362,
     "metadata": {},
     "output_type": "execute_result"
    }
   ],
   "source": [
    "rpg_0_df = rpg_df[rpg_df[\"Hours Played\"] == 0]\n",
    "\n",
    "rpg_0_df.head(len(rpg_0_df))"
   ]
  },
  {
   "cell_type": "markdown",
   "id": "11bd002a838ff802",
   "metadata": {
    "collapsed": false,
    "jupyter": {
     "outputs_hidden": false
    }
   },
   "source": [
    "We can see here in the `Platform`column there are only 2 consoles: `STEAM`and `GBA`.\n",
    "Before choosing a game, I want to see how likely it is that my teacher will play a game in each console.\n",
    "\n",
    "For this, I will compare the hours played in each of these 2 consoles on the original dataframe."
   ]
  },
  {
   "cell_type": "code",
   "execution_count": 363,
   "id": "acdf9bb1fca206b9",
   "metadata": {
    "ExecuteTime": {
     "end_time": "2023-07-31T06:01:04.794865Z",
     "start_time": "2023-07-31T06:01:04.504581Z"
    },
    "collapsed": false,
    "jupyter": {
     "outputs_hidden": false
    }
   },
   "outputs": [
    {
     "data": {
      "text/plain": [
       "<Axes: xlabel='Platform'>"
      ]
     },
     "execution_count": 363,
     "metadata": {},
     "output_type": "execute_result"
    },
    {
     "data": {
      "image/png": "[encoded data removed]",
      "text/plain": [
       "<Figure size 640x480 with 1 Axes>"
      ]
     },
     "metadata": {},
     "output_type": "display_data"
    }
   ],
   "source": [
    "steam_gba_df = df[(df[\"Platform\"] == \"STEAM\") | (df[\"Platform\"] == \"GBA\")]\n",
    "steam_gba_df.groupby(\"Platform\")[\"Hours Played\"].sum().sort_values(ascending=False).plot.bar()"
   ]
  },
  {
   "cell_type": "markdown",
   "id": "fa4d9221242d8172",
   "metadata": {
    "collapsed": false,
    "jupyter": {
     "outputs_hidden": false
    }
   },
   "source": [
    "It looks like my teacher has played a lot more games on the `STEAM` console than on the `GBA` console. This means she is more likely to play a game on the `STEAM` console.\n",
    "\n",
    "Let's remove the `GBA` console from the `rpg_0_df` dataframe. Also, now I want to order the games by the `Score Average` column in descending order."
   ]
  },
  {
   "cell_type": "code",
   "execution_count": 364,
   "id": "72d1706d6d6a5d1f",
   "metadata": {
    "ExecuteTime": {
     "end_time": "2023-07-31T06:01:04.795004Z",
     "start_time": "2023-07-31T06:01:04.555125Z"
    },
    "collapsed": false,
    "jupyter": {
     "outputs_hidden": false
    }
   },
   "outputs": [],
   "source": [
    "rpg_0_df = rpg_0_df[rpg_0_df[\"Platform\"] == \"STEAM\"]\n",
    "rpg_0_df = rpg_0_df.sort_values(by=[\"Score Average\"], ascending=False)"
   ]
  },
  {
   "cell_type": "markdown",
   "id": "eb64a9348e925186",
   "metadata": {
    "collapsed": false,
    "jupyter": {
     "outputs_hidden": false
    }
   },
   "source": [
    "Finally, we can check the first game in the dataframe and recommend it to my teacher."
   ]
  },
  {
   "cell_type": "code",
   "execution_count": 365,
   "id": "146121a89787d07f",
   "metadata": {
    "ExecuteTime": {
     "end_time": "2023-07-31T06:01:04.795223Z",
     "start_time": "2023-07-31T06:01:04.559724Z"
    },
    "collapsed": false,
    "jupyter": {
     "outputs_hidden": false
    }
   },
   "outputs": [
    {
     "data": {
      "text/html": [
       "<div>\n",
       "<style scoped>\n",
       "    .dataframe tbody tr th:only-of-type {\n",
       "        vertical-align: middle;\n",
       "    }\n",
       "\n",
       "    .dataframe tbody tr th {\n",
       "        vertical-align: top;\n",
       "    }\n",
       "\n",
       "    .dataframe thead th {\n",
       "        text-align: right;\n",
       "    }\n",
       "</style>\n",
       "<table border=\"1\" class=\"dataframe\">\n",
       "  <thead>\n",
       "    <tr style=\"text-align: right;\">\n",
       "      <th></th>\n",
       "      <th>Game</th>\n",
       "      <th>Platform</th>\n",
       "      <th>Re-release</th>\n",
       "      <th>Genre</th>\n",
       "      <th>Subgenre</th>\n",
       "      <th>Main Story</th>\n",
       "      <th>Main + Extra</th>\n",
       "      <th>Completionist</th>\n",
       "      <th>Hours Played</th>\n",
       "      <th>% Completion</th>\n",
       "      <th>Metascore</th>\n",
       "      <th>User Score</th>\n",
       "      <th>Score Average</th>\n",
       "    </tr>\n",
       "  </thead>\n",
       "  <tbody>\n",
       "    <tr>\n",
       "      <th>717</th>\n",
       "      <td>Cassette Beasts</td>\n",
       "      <td>STEAM</td>\n",
       "      <td>2023-04-26 00:00:00</td>\n",
       "      <td>Role-Playing Game</td>\n",
       "      <td>Monster Taming</td>\n",
       "      <td>17.5</td>\n",
       "      <td>24.0</td>\n",
       "      <td>24.0</td>\n",
       "      <td>0.0</td>\n",
       "      <td>0</td>\n",
       "      <td>83.0</td>\n",
       "      <td>80.0</td>\n",
       "      <td>81.5</td>\n",
       "    </tr>\n",
       "  </tbody>\n",
       "</table>\n",
       "</div>"
      ],
      "text/plain": [
       "                Game Platform           Re-release              Genre  \\\n",
       "717  Cassette Beasts    STEAM  2023-04-26 00:00:00  Role-Playing Game   \n",
       "\n",
       "           Subgenre  Main Story  Main + Extra  Completionist  Hours Played  \\\n",
       "717  Monster Taming        17.5          24.0           24.0           0.0   \n",
       "\n",
       "     % Completion  Metascore  User Score  Score Average  \n",
       "717             0       83.0        80.0           81.5  "
      ]
     },
     "execution_count": 365,
     "metadata": {},
     "output_type": "execute_result"
    }
   ],
   "source": [
    "rpg_0_df.head(1)"
   ]
  },
  {
   "cell_type": "markdown",
   "id": "224dd9f8120d4fea",
   "metadata": {
    "collapsed": false,
    "jupyter": {
     "outputs_hidden": false
    }
   },
   "source": [
    "# Recommendation\n",
    "\n",
    "The recommendation that will be given to my teacher is the game `Cassette Beasts`.\n",
    "\n",
    "This game has the following characteristics:\n",
    "\n",
    "| Characteristic                | Value               |\n",
    "|-------------------------------|---------------------|\n",
    "| Name                          | Cassette Beasts     |\n",
    "| Platform                      | STEAM               |\n",
    "| Latest version                | 2023-04-26 00:00:00 |\n",
    "| Genre                         | Role-Playing Game   |\n",
    "| Subgenre                      | Monster Taming      |\n",
    "| Main Story time               | 17.5 hours          |\n",
    "| Main + Extra time             | 24 hours            |\n",
    "| Completionist time            | 24 hours            |\n",
    "| Time played                   | 0 hours             |\n",
    "| Current completion percentage | 0%                  |\n",
    "| Metascore                     | 83.0                |\n",
    "| User score                    | 80.0                |\n",
    "| Score average                 | 81.5                |\n",
    "\n",
    "This game has a good score average, and it is a game that my teacher has not played yet.\n",
    "It's also within the genre, subgenre and platform that my teacher has played the most."
   ]
  }
 ],
 "metadata": {
  "kernelspec": {
   "display_name": "Python 3 (ipykernel)",
   "language": "python",
   "name": "python3"
  },
  "language_info": {
   "codemirror_mode": {
    "name": "ipython",
    "version": 3
   },
   "file_extension": ".py",
   "mimetype": "text/x-python",
   "name": "python",
   "nbconvert_exporter": "python",
   "pygments_lexer": "ipython3",
   "version": "3.11.2"
  }
 },
 "nbformat": 4,
 "nbformat_minor": 5
}
